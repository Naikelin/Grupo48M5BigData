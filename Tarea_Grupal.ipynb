{
  "cells": [
    {
      "cell_type": "markdown",
      "metadata": {
        "id": "0aZDTNR639-b"
      },
      "source": [
        "# Tarea: Análisis Visual de Ventas de Tienda de Conveniencia\n",
        "\n",
        "### **Equipo:**\n",
        "                Aquiles Andres Barria Alarcon\n",
        "                O'car Johann Ethel Campos Campos\n",
        "                Luis Felipe Caro Sepúlveda\n",
        "                Nicolás Matías Núñez Yáñez\n",
        "                Bastián Esteban Pérez González\n",
        "\n",
        "### **Grupo:**\n",
        "                48\n",
        "\n",
        "### **Curso:**\n",
        "                Visualización de Datos en Python"
      ],
      "id": "0aZDTNR639-b"
    },
    {
      "cell_type": "markdown",
      "metadata": {
        "id": "pMIT9dUZ39-g"
      },
      "source": [
        "## Descripción del Caso\n",
        "\n",
        "Una cadena de tiendas de conveniencia quiere analizar sus ventas y el comportamiento de los clientes para mejorar su estrategia de marketing. Para ello, han recopilado un conjunto de datos que incluye información sobre las ventas, los productos y los clientes. Su misión será usar las técnicas de visualización de datos aprendidas para analizar y presentar los resultados de este conjunto de datos."
      ],
      "id": "pMIT9dUZ39-g"
    },
    {
      "cell_type": "markdown",
      "metadata": {
        "id": "KpvrAx_239-h"
      },
      "source": [
        "## Indicaciones Generales\n",
        "\n",
        "1.  **Dataset:** Utilizarán el dataset \"Supermarket Sales\" disponible en Kaggle (data.csv).\n",
        "2.  **Entorno:** Trabajen según las indicaciones de este notebook.\n",
        "3.  **Colaboración:** Esta es una tarea grupal. Asegúrense de coordinar el trabajo.\n",
        "4.  **Streamlit:** Se requiere crear un dashboard interactivo usando la librería Streamlit. Deberán escribir y ejecutar su código como script the python (archivo .py), pero deben también escribir el código en una celda dentro de éste jupyter notebook para su revisión.\n",
        "5.  **Pensamiento Crítico:** Incluyan reflexiones y justificaciones para sus elecciones de visualización y análisis.\n",
        "6.  **Entrega:** Entreguen este notebook completado según las indicaciones."
      ],
      "id": "KpvrAx_239-h"
    },
    {
      "cell_type": "markdown",
      "metadata": {
        "id": "3YsHAYJS39-i"
      },
      "source": [
        "## 1. Selección de Variables y desarrollo de Análisis\n",
        "\n",
        "\n",
        "a.  Examinen el conjunto de datos proporcionado (`df.info()`, `df.describe()`, `df.columns`).\n",
        "\n",
        "b.  Identifiquen y **justifiquen** las variables que consideren más relevantes para un análisis significativo del comportamiento de ventas y clientes.\n",
        "\n",
        "c.  Reflexionen sobre la importancia de cada variable seleccionada en el contexto del caso de estudio (¿Qué preguntas de negocio pueden ayudar a responder?)."
      ],
      "id": "3YsHAYJS39-i"
    },
    {
      "cell_type": "markdown",
      "source": [],
      "metadata": {
        "id": "Pkxx7k_Os0ws"
      },
      "id": "Pkxx7k_Os0ws"
    },
    {
      "cell_type": "markdown",
      "metadata": {
        "id": "WGc1ycyX39-j"
      },
      "source": [
        "## Análisis Requeridos:\n",
        "\n",
        "1.  **Evolución de las Ventas Totales:**\n",
        "    *   **Objetivo:** Mostrar cómo han variado las ventas totales (`Total`) a lo largo del tiempo (`Date`).\n",
        "    *   **Gráfico:** Gráfico de Líneas.\n",
        "    *   **Justificación:** Un gráfico de líneas es ideal para visualizar tendencia en intervalos de tiempo contínuo. Muestra de forma explícita variaciones y patrones en totales de venta a medida que el tiempo progresa. Cada punto de la línea representa el total de ventas para una fecha específica y conecta las líneas para ilustrar la trayectoria de ventas.\n",
        "\n",
        "2.  **Ingresos por Línea de Producto:**\n",
        "    *   **Objetivo:** Comparar los ingresos (`Total`) generados por cada `Product line`.\n",
        "    *   **Gráfico:** Gráfico de Barras.\n",
        "    *   **Justificación:** Un gráfico de barras ayuda a comparar la magnitud de una variable numérica a través de distintas categorías. Cada barra representa una línea de productos y su altura corresponda al ingreso total generado por esa línea. Un gráfico de barras horizontales puede ser particularmente útil si los nombres de la líneas de productos son particularmente largos, asegurando la legibilidad de los nombres.\n",
        "\n",
        "3.  **Distribución de la Calificación de Clientes:**\n",
        "    *   **Objetivo:** Analizar la distribución de las calificaciones (`Rating`) de los clientes.\n",
        "    *   **Gráfico:** Histograma.\n",
        "    *   **Justificación:** Un histograma explicita la distribución de frecuencia de una variable numérica específica. Agrupa calificaciones en cajones o bins y muestra cuantos clientes se ajustan en cada categoría de calificación ayudando así a entender de forma global los niveles de satisfacción de los clientes.\n",
        "\n",
        "4.  **Comparación del Gasto por Tipo de Cliente:**\n",
        "    *   **Objetivo:** Comparar la distribución del gasto total (`Total`) entre clientes `Member` y `Normal`.\n",
        "    *   **Gráfico:** Gráfico de cajas (lado a lado) o de violín.\n",
        "    *   **Justificación:** El gráfico de cajas es excelente para la comparativa de distribuciones de variables numéricas a través de distintos grupos. Se puede tener un gráfico de cajas para clientes miembros y/o una para clientes normales permitiendo comparar medianas, cuartiles, rangos e identificar potenciales outliers en gastos para cada grupo. Por otro lado, los gráficos de violín combinan los aspectos de los gráficos de cajas con los de los gráficos KD. Muestran la probabilidad de densidad de los datos a diferentes valores entregando una mejor visualización de la forma de la distribución para cada grupo de gasto además de las estadísticas que entregan los gráficos de cajas.\n",
        "\n",
        "5.  **Relación entre Costo y Ganancia Bruta:**\n",
        "    *   **Objetivo:** Visualizar la relación entre el costo de bienes vendidos (`cogs`) y el ingreso bruto (`gross income`).\n",
        "    *   **Gráfico:** Gráfico Scatter\n",
        "    *   **Justificación:** El scatter plot ayuda en la visualizar la relación existente entre dos variables numéricas. Cada punto del gráfico representa una transacción con su posición determinada por los bienes vendidos e ingreso bruto. Esto ayuda a identificar si existe una relación lineal, correlación, or cualquier otro patrón entre costo e ingreso bruto.\n",
        "\n",
        "6.  **Métodos de Pago Preferidos:**\n",
        "    *   **Objetivo:** Identificar los métodos de pago (`Payment`) más frecuentes.\n",
        "    *   **Gráfico:** Gráfico de barras o de torta.\n",
        "    *   **Justificación:** El gráfico de barras explicita la frecuencia o cuenta de cada método de pago. Cada barra representa un tipo de forma de pago y su altura o largo indican que tan seguido fue esado. Este gráfico es una buena comparación directa de frecuencias. Por otro lado, el gráfico de barras muestra claramente la proporción de uso de cada método de pago en relación al número total de transacciones. El gráfico de torta suele ser más fácil de leer cuando las proporciones son dispares.\n",
        "\n",
        "7.  **Análisis de Correlación Numérica:**\n",
        "    *   **Objetivo:** Explorar relaciones lineales entre variables numéricas (`Unit price`, `Quantity`, `Tax 5%`, `Total`, `cogs`, `gross income`, `Rating`).\n",
        "    *   **Gráfico:** Mapa de calor o matriz de correlación.\n",
        "    *   **Justificación:** El mapa de calor calcula la correlación entre coeficientes entre cada para de variables numéricas. Un mapa de calor representa de manera visual la matriz usando intesidades de colores para indicar nivel de correlación y dirección de esta (positiva o negativa).\n",
        "\n",
        "8.  **Composición del Ingreso Bruto por Sucursal y Línea de Producto:**\n",
        "    *   **Objetivo:** Mostrar la contribución de cada `Product line` al `gross income` dentro de cada `Branch`.\n",
        "    *   **Gráfico:** Gráfico de barras apilado o agrupado.\n",
        "    *   **Justificación:** El gráfico de barras apilado se puede utilizar para cada rama generando una barra única para el ingreso bruto. Esta barra puede segmentarse por líneas de producto con el tamaño de cada segmento indicando la contribución de cada línea de producto al ingreso bruto total de la rama. Por otro lado, un gráfico agrupado tendría para cada rama un grupo de barras donde cada una en el grupo representa cada línea de productos distinta. La altura de las barras representaria el ingreso bruto. Lo anterior serviría para una comparación directa entre los ingresos brutos para cada línea de producto según rama o entre líneas de productos para una misma rama.\n",
        "\n",
        "---\n",
        "\n",
        "## Requisitos Adicionales:\n",
        "*   Implementación en Streamlit.\n",
        "*   Gráficos claros (títulos, etiquetas).\n",
        "*   Interactividad (filtros) donde sea apropiado.\n",
        "*   Aplicación de buenas prácticas de visualización (claridad)."
      ],
      "id": "WGc1ycyX39-j"
    },
    {
      "cell_type": "markdown",
      "metadata": {
        "id": "n6rZeeTW39-k"
      },
      "source": [
        "## 2. Integración en un Dashboard (Streamlit)\n",
        "\n",
        "a.  Utilizando Streamlit, integren **algunas** de sus visualizaciones y hallazgos clave en un dashboard interactivo.\n",
        "\n",
        "b.  Asegúrense de que el dashboard sea intuitivo y bien organizado (usen títulos, texto explicativo, widgets interactivos como sliders o selectores para filtrar datos).\n",
        "\n",
        "c.  Reflexionen sobre cómo la interactividad del dashboard mejora la experiencia del usuario y el proceso de toma de decisiones basado en los datos presentados.\n",
        "\n",
        "**Instrucciones:**\n",
        "1.  Escriban el código completo de su aplicación Streamlit en la celda de código de abajo.\n",
        "2.  Copien ese código a un archivo de texto simple llamado `dashboard_tarea.py` (o el nombre que prefieran).\n",
        "3.  Abran una terminal o Anaconda Prompt, naveguen a la carpeta donde guardaron el archivo.\n",
        "4.  Ejecuten el comando: `streamlit run dashboard_tarea.py`\n",
        "5.  Interactúen con su dashboard en el navegador.\n",
        "6.  **Importante:** En la celda de Markdown siguiente, describan su dashboard, qué visualizaciones incluye, qué interacciones permite, y adjunten el código de su script de python."
      ],
      "id": "n6rZeeTW39-k"
    },
    {
      "cell_type": "code",
      "execution_count": null,
      "metadata": {
        "lc-needs-sanitizing": false,
        "id": "G7NttCEd39-l"
      },
      "outputs": [],
      "source": [
        "# --- Describan su Dashboard (Gráficos Utilizados y Justificación de su uso) ---\n",
        "\n",
        "''' ESCRIBIR AQUÍ SU DESCRIPCIÓN DEL DASHBOARD'''"
      ],
      "id": "G7NttCEd39-l"
    },
    {
      "cell_type": "code",
      "execution_count": null,
      "id": "7cfbdf36",
      "metadata": {
        "id": "7cfbdf36"
      },
      "outputs": [],
      "source": [
        "# --- CÓDIGO PARA dashboard_tarea_grupo_X.py ---\n",
        "# (Este bloque NO se ejecuta directamente en Jupyter)\n",
        "\n",
        "''' PEGAR A CONTINUACIÓN EL CÓDIGO DEL DASHBOARD '''"
      ]
    },
    {
      "cell_type": "markdown",
      "metadata": {
        "id": "Gn_bLV2w39-o"
      },
      "source": [
        "# 3. Deployment\n",
        "\n",
        "a.  Desplieguen su dashboard en Streamlit Cloud.\n",
        "\n",
        "b.  Asegúrense de que el dashboard sea accesible públicamente.\n",
        "\n",
        "c.  Proporcionen el enlace al dashboard desplegado en la celda de Markdown siguiente.\n",
        "\n",
        "d.  Reflexionen sobre el proceso de despliegue y cualquier desafío que hayan enfrentado.\n"
      ],
      "id": "Gn_bLV2w39-o"
    },
    {
      "cell_type": "markdown",
      "id": "9d828784",
      "metadata": {
        "id": "9d828784"
      },
      "source": [
        "En el caso que no hayan podido deployar:"
      ]
    },
    {
      "cell_type": "code",
      "execution_count": null,
      "id": "364663fb",
      "metadata": {
        "id": "364663fb"
      },
      "outputs": [],
      "source": [
        "'''\n",
        "Comentar si hubo problemas con el código o si no se ejecutó correctamente que les impidieron realizar el análisis completo y el deployment del dashboard.\n",
        "'''"
      ]
    },
    {
      "cell_type": "markdown",
      "id": "083cd8f3",
      "metadata": {
        "id": "083cd8f3"
      },
      "source": [
        "En el caso que hayan podido deployar:"
      ]
    },
    {
      "cell_type": "code",
      "execution_count": null,
      "id": "5584ebd3",
      "metadata": {
        "id": "5584ebd3"
      },
      "outputs": [],
      "source": [
        "'''\n",
        "Poner aquí la url de su dashboard en el servidor de Streamlit.\n",
        "Ejemplo: https://share.streamlit.io/streamlit/demo-uber-nyc-pickups\n",
        "'''"
      ]
    },
    {
      "cell_type": "markdown",
      "metadata": {
        "id": "Ub-mWbdN39-r"
      },
      "source": [
        "# 4. Conclusiones Generales\n",
        "\n",
        "Reflexionen sobre el proceso de análisis y visualización. ¿Qué aprendieron sobre los datos de la tienda? ¿Qué limitaciones encontraron en los datos o en las técnicas de visualización? ¿Qué recomendaciones (basadas en los datos) podrían darle a la cadena de tiendas?"
      ],
      "id": "Ub-mWbdN39-r"
    },
    {
      "cell_type": "code",
      "execution_count": null,
      "id": "a7a03bf9",
      "metadata": {
        "id": "a7a03bf9"
      },
      "outputs": [],
      "source": [
        "'''\n",
        "Escriban acá su reflexión sobre el Dashboard.\n",
        "'''"
      ]
    },
    {
      "cell_type": "markdown",
      "metadata": {
        "id": "jNt1tyku39-u"
      },
      "source": [
        "# 5. Referencias\n",
        "\n",
        "Listar las fuentes utilizadas (dataset, bibliotecas principales, material de referencia adicional si aplica)."
      ],
      "id": "jNt1tyku39-u"
    },
    {
      "cell_type": "code",
      "execution_count": null,
      "id": "2cf3b500",
      "metadata": {
        "id": "2cf3b500"
      },
      "outputs": [],
      "source": [
        "'''\n",
        "Escriban aquí las referencias.\n",
        "'''"
      ]
    },
    {
      "cell_type": "markdown",
      "id": "20682a90",
      "metadata": {
        "id": "20682a90"
      },
      "source": [
        "## NOTA FINAL:\n",
        "### Asegúrense de sólo subir el jupyter notebook a la plataforma, con un formato del tipo: \"Trabajo_Grupo_X.ipynb\".\n",
        "### No es necesario incluir el archivo .py del dashboard, pero sí el código dentro de este cuaderno en el apartado correspondiente."
      ]
    },
    {
      "cell_type": "markdown",
      "id": "5a19ce43",
      "metadata": {
        "id": "5a19ce43"
      },
      "source": []
    }
  ],
  "metadata": {
    "kernelspec": {
      "display_name": "Python 3 (ipykernel)",
      "language": "python",
      "name": "python3"
    },
    "language_info": {
      "codemirror_mode": {
        "name": "ipython",
        "version": 3
      },
      "file_extension": ".py",
      "mimetype": "text/x-python",
      "name": "python",
      "nbconvert_exporter": "python",
      "pygments_lexer": "ipython3",
      "version": "3.9.12"
    },
    "colab": {
      "provenance": []
    }
  },
  "nbformat": 4,
  "nbformat_minor": 5
}